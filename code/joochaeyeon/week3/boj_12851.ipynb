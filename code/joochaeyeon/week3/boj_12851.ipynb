{
 "cells": [
  {
   "attachments": {
    "image.png": {
     "image/png": "[encoded data removed]"
    }
   },
   "cell_type": "markdown",
   "metadata": {},
   "source": [
    "https://www.acmicpc.net/problem/12851\n",
    "\n",
    "### 숨바꼭질 2 \n",
    "#### 문제 파악\n",
    "- 수빈이는 현재 점 N(0 ≤ N ≤ 100,000)에 있고, 동생은 점 K(0 ≤ K ≤ 100,000)에 있다.\n",
    "- 수빈이는 걷거나 순간이동을 할 수 있다. 만약, 수빈이의 위치가 X일 때 걷는다면 1초 후에 X-1 또는 X+1로 이동하게 된다. 순간이동을 하는 경우에는 1초 후에 2*X의 위치로 이동하게 된다.\n",
    "- 수빈이와 동생의 위치가 주어졌을 때, 수빈이가 동생을 찾을 수 있는 가장 빠른 시간이 몇 초 후인지 그리고, 가장 빠른 시간으로 찾는 방법이 몇 가지 인지 구하는 프로그램을 작성하시오.\n",
    "\n",
    "#### 입력\n",
    "첫 번째 줄에 수빈이가 있는 위치 N과 동생이 있는 위치 K가 주어진다. N과 K는 정수이다.\n",
    "\n",
    "#### 출력\n",
    "첫째 줄에 수빈이가 동생을 찾는 가장 빠른 시간을 출력한다.\n",
    "\n",
    "둘째 줄에는 가장 빠른 시간으로 수빈이가 동생을 찾는 방법의 수를 출력한다.\n",
    "\n",
    "![image.png](attachment:image.png)"
   ]
  },
  {
   "cell_type": "markdown",
   "metadata": {},
   "source": [
    "#### 자료구조 : 큐사용\n",
    "-> 큐를 사용하는 이유는 너비우선을 사용해야할 거 같아서"
   ]
  },
  {
   "cell_type": "code",
   "execution_count": null,
   "metadata": {},
   "outputs": [],
   "source": [
    "from collections import deque\n",
    "\n",
    "# N: 수빈이 위치, K: 동생 위치\n",
    "N, K = map(int, input().split())\n",
    "\n",
    "# time = 0  # 동생 찾는 시간\n",
    "cnt = 0  # 동생 찾는 방법의 수\n",
    "MAX = 100001  # 0 ≤ N, K ≤ 100,000이기에\n",
    "\n",
    "queue = deque()\n",
    "queue.append(N) #수빈이의 현재위치 추가해줌\n",
    "\n",
    "visited = [0] * (MAX + 1)\n",
    "\n",
    "while queue:\n",
    "    cur = queue.popleft()  # 현재 위치\n",
    "    if cur == K:\n",
    "        cnt += 1\n",
    "    for i in [cur - 1, cur + 1, cur * 2]:  # 수빈이가 이동할 수 있는 경로들\n",
    "        if 0 <= i < MAX and (visited[i] == 0 or visited[i] >= visited[cur] + 1): #범위 안에 있고 방문하지 않았거나, 다음 방문이 이전 방문+1이면\n",
    "            queue.append(i)\n",
    "            visited[i] = visited[cur] + 1\n",
    "\n",
    "print(visited[K])\n",
    "print(cnt)"
   ]
  }
 ],
 "metadata": {
  "language_info": {
   "name": "python"
  }
 },
 "nbformat": 4,
 "nbformat_minor": 2
}

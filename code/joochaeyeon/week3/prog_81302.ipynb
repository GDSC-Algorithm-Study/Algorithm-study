{
 "cells": [
  {
   "attachments": {
    "image.png": {
     "image/png": "[encoded data removed]"
    }
   },
   "cell_type": "markdown",
   "metadata": {},
   "source": [
    "https://school.programmers.co.kr/learn/courses/30/lessons/81302\n",
    "\n",
    "### 숨거리두기 확인하기\n",
    "#### 문제 파악\n",
    "- 대기실은 5개이며, 각 대기실은 5x5 크기\n",
    "- 거리두기를 위하여 응시자들 끼리는 맨해튼 거리1가 2 이하로 앉지 말아 주세요.\n",
    "- 단, 응시자가 앉아있는 자리 사이가 파티션으로 막혀 있을 경우에는 허용한다.<br/><br/>\n",
    "- 응시자가 앉아있는 자리(P)를 의미\n",
    "- 빈 테이블(O)을 의미\n",
    "- 파티션(X)을 의미<br/><br/>\n",
    "- 자리에 앉아있는 응시자들의 정보와 대기실 구조를 대기실별로 담은 2차원 문자열 배열 places가 매개변수\n",
    "- 각 대기실별로 거리두기를 지키고 있으면 1을, 한 명이라도 지키지 않고 있으면 0을 배열에 담아 return 하도록 solution 함수를 완성해라\n",
    "\n",
    "##### 주의\n",
    "- 파티션이 존재한다면 맨해튼 거리가 2여도 거리두기를 지킨 것\n",
    "- 맨해튼 거리 2이고 사이에 빈 테이블이 있는 경우는 거리두기를 지키지 않은 것\n",
    "\n",
    "##### 제한\n",
    "- 정확성 테스트 : 10초\n",
    "- 두 테이블 T1, T2가 행렬 (r1, c1), (r2, c2)에 각각 위치하고 있다면, T1, T2 사이의 맨해튼 거리는 |r1 - r2| + |c1 - c2| 입니다. <br/><br/>\n",
    "\n",
    "![image.png](attachment:image.png)"
   ]
  },
  {
   "cell_type": "code",
   "execution_count": 1,
   "metadata": {},
   "outputs": [
    {
     "name": "stdout",
     "output_type": "stream",
     "text": [
      "[1, 0, 1, 1, 1]\n"
     ]
    }
   ],
   "source": [
    "def solution(places):\n",
    "    answer = [] #결과값을 담는 리스트\n",
    "    #P의 위치에서 확인해봐야할 근처 좌표들\n",
    "    dx = [0, 1, 0, -1]\n",
    "    dy = [1, 0, -1, 0]\n",
    "    diagonal_x = [-1, -1, 1, 1]\n",
    "    diagonal_y = [-1, 1, -1, 1]\n",
    "\n",
    "    #P:응시자가 앉아있는 자리\n",
    "    #O:빈테이블\n",
    "    #X:파티션\n",
    "\n",
    "    def check(array, x, y):\n",
    "        # 수직, 수평 확인\n",
    "        for i in range(4):\n",
    "            nx, ny = x + dx[i], y + dy[i]\n",
    "            if 0 <= nx < 5 and 0 <= ny < 5 and array[nx][ny] == 'P':\n",
    "                return False\n",
    "\n",
    "        # 대각선 확인\n",
    "        for i in range(4):\n",
    "            nx, ny = x + diagonal_x[i], y + diagonal_y[i]\n",
    "            if 0 <= nx < 5 and 0 <= ny < 5 and array[nx][ny] == 'P':\n",
    "                # 응시자 간의 맨해튼 거리가 2 이하인 경우\n",
    "                if abs(nx - x) + abs(ny - y) <= 2:\n",
    "                    # 대각선 방향으로 바로 옆에 응시자가 있는 경우\n",
    "                    if array[x][ny] == array[nx][y] == 'O':\n",
    "                        return False\n",
    "        return True\n",
    "\n",
    "    for place in places:\n",
    "        array = [list(row) for row in place]\n",
    "        find = False #조건 충족하는 응시자를 찾았냐\n",
    "\n",
    "        for i in range(5):\n",
    "            for j in range(5):\n",
    "                if array[i][j] == 'P':\n",
    "                    if not check(array, i, j):\n",
    "                        find = True\n",
    "                        break\n",
    "            if find:\n",
    "                break\n",
    "\n",
    "        if find: #find=False일 경우\n",
    "            answer.append(0)\n",
    "        else: #find=True일 경우\n",
    "            answer.append(1)\n",
    "\n",
    "    return answer\n",
    "\n",
    "# 테스트\n",
    "places = [\n",
    "    [\"POOOP\", \"OXXOX\", \"OPXPX\", \"OOXOX\", \"POXXP\"],\n",
    "    [\"POOPX\", \"OXPXP\", \"PXXXO\", \"OXXXO\", \"OOOPP\"],\n",
    "    [\"PXOPX\", \"OXOXP\", \"OXPOX\", \"OXXOP\", \"PXPOX\"],\n",
    "    [\"OOOXX\", \"XOOOX\", \"OOOXX\", \"OXOOX\", \"OOOOO\"],\n",
    "    [\"PXPXP\", \"XPXPX\", \"PXPXP\", \"XPXPX\", \"PXPXP\"]]\n",
    "\n",
    "print(solution(places))"
   ]
  }
 ],
 "metadata": {
  "kernelspec": {
   "display_name": "Python 3",
   "language": "python",
   "name": "python3"
  },
  "language_info": {
   "codemirror_mode": {
    "name": "ipython",
    "version": 3
   },
   "file_extension": ".py",
   "mimetype": "text/x-python",
   "name": "python",
   "nbconvert_exporter": "python",
   "pygments_lexer": "ipython3",
   "version": "3.10.10"
  }
 },
 "nbformat": 4,
 "nbformat_minor": 2
}

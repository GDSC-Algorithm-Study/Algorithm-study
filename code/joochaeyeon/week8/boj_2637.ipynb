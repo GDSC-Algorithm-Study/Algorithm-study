{
 "cells": [
  {
   "cell_type": "markdown",
   "metadata": {},
   "source": [
    "https://www.acmicpc.net/problem/2637\n",
    "\n",
    "## 장난감 조립\n",
    "#### 문제 파악\n",
    "- 장난감을 만드는데는 기본 부품과 그 기본 부품으로 조립하여 만든 중간 부품이 사용된다. <br/> 기본 부품은 다른 부품을 사용하여 조립될 수 없는 부품이다. 중간 부품은 또 다른 중간 부품이나 기본 부품을 이용하여 만들어지는 부품이다.\n",
    "\n",
    "\n",
    "#### 입력\n",
    "- 첫째 줄에는 자연수 N(3 ≤ N ≤ 100), N은 완제품의 번호를 나타낸다.\n",
    "- 두번째 줄에는 자연수 M(3 ≤ M ≤ 100),\n",
    "- 세번째 줄부터는 M개의 줄에는 어떤 부품을 완성하는데 필요한 부품들 간의 관계가 3개의 자연수 X, Y, K로 주어진다. 이 뜻은 \"중간 부품이나 완제품 X를 만드는데 중간 부품 혹은 기본 부품 Y가 K개 필요하다\"는 뜻이다. 두 중간 부품이 서로를 필요로 하는 경우가 없다.\n",
    "\n",
    "#### 출력\n",
    "- 하나의 완제품을 조립하는데 필요한 기본 부품의 수를 한 줄에 하나씩 출력하되(중간 부품은 출력하지 않음), 반드시 기본 부품의 번호가 작은 것부터 큰 순서가 되도록 한다. \n",
    "- 각 줄에는 기본 부품의 번호와 소요 개수를 출력\n"
   ]
  },
  {
   "cell_type": "code",
   "execution_count": null,
   "metadata": {},
   "outputs": [],
   "source": [
    "from collections import deque\n",
    "\n",
    "def topological_sort(graph, in_degree, basic_components):\n",
    "    result = [0] * (len(graph) + 1)\n",
    "    queue = deque()\n",
    "\n",
    "    for i in range(1, len(graph) + 1): #in-degree가 0인 기본 부품을 큐에 추가\n",
    "        if in_degree[i] == 0:\n",
    "            queue.append(i)\n",
    "            result[i] = basic_components[i]  #기본 부품 개수 초기화\n",
    "\n",
    "    while queue:\n",
    "        current = queue.popleft()\n",
    "\n",
    "        for next_component, cnt in graph[current]:\n",
    "            result[next_component] += result[current] * cnt\n",
    "            in_degree[next_component] -= 1\n",
    "\n",
    "            if in_degree[next_component] == 0:\n",
    "                queue.append(next_component)\n",
    "\n",
    "    return result\n",
    "\n",
    "def solution(N, M, graph):\n",
    "    in_degree = [0] * (N + 1)\n",
    "    basic_components = [0] * (N + 1)\n",
    "\n",
    "    for _, next_component, _ in graph:\n",
    "        in_degree[next_component] += 1\n",
    "\n",
    "    for current_component, _, cnt in graph: #기본 부품 개수 저장\n",
    "        basic_components[current_component] = cnt\n",
    "\n",
    "    result = topological_sort(graph, in_degree, basic_components)\n",
    "\n",
    "    for cnt in result[1:]:\n",
    "        print(cnt, end=' ')\n",
    "\n",
    "N = int(input())\n",
    "M = int(input())\n",
    "\n",
    "graph = []\n",
    "for _ in range(M):\n",
    "    X, Y, K = map(int, input().split())\n",
    "    graph.append((X, Y, K))\n",
    "solution(N, M, graph)"
   ]
  }
 ],
 "metadata": {
  "language_info": {
   "name": "python"
  }
 },
 "nbformat": 4,
 "nbformat_minor": 2
}

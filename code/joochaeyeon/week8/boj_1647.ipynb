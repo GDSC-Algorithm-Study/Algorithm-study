{
 "cells": [
  {
   "cell_type": "code",
   "execution_count": null,
   "metadata": {},
   "outputs": [],
   "source": [
    "N, M = map(int, input().split())\n",
    "edges = []\n",
    "\n",
    "for _ in range(M):\n",
    "    A, B, C = map(int, input().split())\n",
    "    edges.append((A, B, C))\n",
    "\n",
    "#크루스칼 알고리즘 직접 구현\n",
    "parent = [i for i in range(N+1)]\n",
    "edges.sort(key=lambda x: x[2])\n",
    "\n",
    "total_cost = 0\n",
    "max_cost = 0\n",
    "\n",
    "for edge in edges:\n",
    "    a, b, cost = edge\n",
    "\n",
    "    if parent[a] != parent[b]:\n",
    "        root_a, root_b = parent[a], parent[b]\n",
    "        for i in range(1, N+1):\n",
    "            if parent[i] == root_b:\n",
    "                parent[i] = root_a\n",
    "        total_cost += cost\n",
    "        max_cost = max(max_cost, cost)\n",
    "\n",
    "result = total_cost - max_cost\n",
    "print(result)"
   ]
  }
 ],
 "metadata": {
  "language_info": {
   "name": "python"
  }
 },
 "nbformat": 4,
 "nbformat_minor": 2
}

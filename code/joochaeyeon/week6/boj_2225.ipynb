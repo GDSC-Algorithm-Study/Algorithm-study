{
 "cells": [
  {
   "cell_type": "markdown",
   "metadata": {},
   "source": [
    "https://www.acmicpc.net/problem/2225\n",
    "\n",
    "### 합분해\n",
    "#### 문제 파악\n",
    "- 0부터 N까지의 정수 K개를 더해서 그 합이 N이 되는 경우의 수를 구하는 프로그램을 작성하시오.\n",
    "- 덧셈의 순서가 바뀐 경우는 다른 경우로 센다(1+2와 2+1은 서로 다른 경우). 또한 한 개의 수를 여러 번 쓸 수도 있다.\n",
    "\n",
    "#### 입력\n",
    "- 첫째 줄에 두 정수 N(1 ≤ N ≤ 200), K(1 ≤ K ≤ 200)가 주어진다.\n",
    "\n",
    "#### 출력\n",
    "첫째 줄에 답을 1,000,000,000으로 나눈 나머지를 출력\n"
   ]
  },
  {
   "cell_type": "code",
   "execution_count": null,
   "metadata": {},
   "outputs": [],
   "source": [
    "N, K = map(int, input().split())\n",
    "\n",
    "#dp배열을 만들어서 푼다.\n",
    "dp = [[0 for x in range(N + 1)] for x in range(K)]\n",
    "\n",
    "# 초기값 설정\n",
    "for i in range(K):\n",
    "    dp[i][0] = 1\n",
    "\n",
    "for i in range(N + 1):\n",
    "    dp[0][i] = 1\n",
    "\n",
    "# 점화식을 이용해서 구현\n",
    "for i in range(1, K):\n",
    "    dp[i][1] = 1\n",
    "    for j in range(1, N + 1):\n",
    "        dp[i][j] = dp[i][j - 1] + dp[i - 1][j] #dp테이블을 살펴보면 해당 규칙을 발견할 수 있다.\n",
    "\n",
    "result = dp[K - 1][N] % 1000000000\n",
    "print(result)"
   ]
  }
 ],
 "metadata": {
  "language_info": {
   "name": "python"
  }
 },
 "nbformat": 4,
 "nbformat_minor": 2
}

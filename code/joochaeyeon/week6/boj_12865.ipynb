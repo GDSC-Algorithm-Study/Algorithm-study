{
 "cells": [
  {
   "cell_type": "markdown",
   "metadata": {},
   "source": [
    "https://www.acmicpc.net/problem/12865\n",
    "\n",
    "### 평범한 배낭\n",
    "#### 문제 파악\n",
    "- 준서가 여행에 필요하다고 생각하는 N개의 물건이 있다. 각 물건은 무게 W와 가치 V를 가지는데, 해당 물건을 배낭에 넣어서 가면 준서가 V만큼 즐길 수 있다. \n",
    "- 최대 K만큼의 무게만을 넣을 수 있는 배낭만 들고 다닐 수 있다. 준서가 최대한 즐거운 여행을 하기 위해 배낭에 넣을 수 있는 물건들의 가치의 최댓값을 알려주자.\n",
    "\n",
    "#### 입력\n",
    "- 첫 줄에 물품의 수 N(1 ≤ N ≤ 100)\n",
    "- 준서가 버틸 수 있는 무게 K(1 ≤ K ≤ 100,000)\n",
    "- 두 번째 줄부터 N개의 줄에 거쳐 각 물건의 무게 W(1 ≤ W ≤ 100,000)와 해당 물건의 가치 V(0 ≤ V ≤ 1,000)가 주어진다.\n",
    "\n",
    "#### 출력\n",
    "한 줄에 배낭에 넣을 수 있는 물건들의 가치합의 최댓값을 출력\n"
   ]
  },
  {
   "cell_type": "code",
   "execution_count": null,
   "metadata": {},
   "outputs": [],
   "source": [
    "N, K = map(int, input().split())\n",
    "\n",
    "items = []\n",
    "for _ in range(N):\n",
    "    W, V = map(int, input().split())\n",
    "    items.append((W, V))\n",
    "\n",
    "dp = [[0] * (K + 1) for _ in range(N + 1)]\n",
    "\n",
    "\n",
    "for i in range(1, N + 1):\n",
    "    for j in range(1, K + 1):\n",
    "        w, v = items[i - 1]\n",
    "        # i번째 물품을 선택하지 않는 경우\n",
    "        if j < w:\n",
    "            dp[i][j] = dp[i - 1][j]\n",
    "        # i번째 물품을 선택하는 경우\n",
    "        else:\n",
    "            dp[i][j] = max(dp[i - 1][j], dp[i - 1][j - w] + v)\n",
    "\n",
    "result = dp[N][K]\n",
    "print(result)"
   ]
  }
 ],
 "metadata": {
  "language_info": {
   "name": "python"
  }
 },
 "nbformat": 4,
 "nbformat_minor": 2
}

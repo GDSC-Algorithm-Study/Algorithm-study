{
 "cells": [
  {
   "attachments": {
    "image.png": {
     "image/png": "[encoded data removed]"
    }
   },
   "cell_type": "markdown",
   "metadata": {},
   "source": [
    "https://school.programmers.co.kr/learn/courses/30/lessons/42895\n",
    "\n",
    "### N으로 표현\n",
    "#### 문제 파악\n",
    "- N을 가지고 사칙연산을 이용하여 number을 만드는 문제\n",
    "- 숫자 N과 number가 주어질 때, N과 사칙연산만 사용해서 표현 할 수 있는 방법 중 N 사용횟수의 최솟값을 return 하도록 solution 함수를 작성\n",
    "\n",
    "#### 제한사항\n",
    "- N은 1 이상 9 이하입니다.\n",
    "- number는 1 이상 32,000 이하입니다.\n",
    "- 수식에는 괄호와 사칙연산만 가능하며 나누기 연산에서 나머지는 무시합니다.\n",
    "- 최솟값이 8보다 크면 -1을 return 합니다.<br/><br/>\n",
    "\n",
    "![image.png](attachment:image.png)"
   ]
  },
  {
   "cell_type": "code",
   "execution_count": null,
   "metadata": {},
   "outputs": [],
   "source": [
    "def solution(N, number):\n",
    "    answer = -1 #이 값이 만약 8이상이라면 -1을 return해야하기에 초기값을 -1로 지정\n",
    "    dp = [[] for _ in range(9)]\n",
    "\n",
    "    for i in range(1,9):\n",
    "        dp[i].append(int(str(N)*i))\n",
    "        for j in range(1,i):\n",
    "            for n1 in dp[j]:\n",
    "                for n2 in dp[i-j]: #사칙연산\n",
    "                    dp[i].append(n1+n2)\n",
    "                    dp[i].append(n1-n2)\n",
    "                    dp[i].append(n1*n2)\n",
    "                    if n2!=0: #n2가 0이면 예외가 발생하게 되니 따로 빼서 처리\n",
    "                        dp[i].append(n1//n2)\n",
    "\n",
    "        dp[i]=list(set(dp[i]))\n",
    "        if number in dp[i]:\n",
    "            return i                \n",
    "    return answer\n",
    "\n",
    "\n",
    "#테스트\n",
    "# N, number=5,12\n",
    "N, number=2,11\n",
    "print(solution(N, number))"
   ]
  }
 ],
 "metadata": {
  "language_info": {
   "name": "python"
  }
 },
 "nbformat": 4,
 "nbformat_minor": 2
}

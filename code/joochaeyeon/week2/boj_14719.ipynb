{
 "cells": [
  {
   "cell_type": "markdown",
   "metadata": {},
   "source": [
    "https://www.acmicpc.net/problem/14719\n",
    "\n",
    "### 빗물\n",
    "#### 문제 파악\n",
    "- 2차원 세계에 블록이 쌓여있고 거기에 빗물이 쌓인다. 빗물의 총량이 얼마인지 구해라\n",
    "\n",
    "#### 입력\n",
    "첫 번째 줄에는 2차원 세계의 세로 길이 H과 2차원 세계의 가로 길이 W가 주어진다. (1 ≤ H, W ≤ 500)\n",
    "\n",
    "두 번째 줄에는 블록이 쌓인 높이를 의미하는 0이상 H이하의 정수가 2차원 세계의 맨 왼쪽 위치부터 차례대로 W개 주어진다.\n",
    "\n",
    "블록 내부의 빈 공간이 생길 수 없으며 2차원 세계의 바닥은 항상 막혀있다고 가정하여도 좋다.\n",
    "\n",
    "#### 출력\n",
    "2차원 세계에서는 한 칸의 용량은 1이다. 고이는 빗물의 총량을 출력, 빗물이 전혀 고이지 않을 경우 0을 출력"
   ]
  },
  {
   "cell_type": "code",
   "execution_count": null,
   "metadata": {},
   "outputs": [],
   "source": [
    "def totalRain(blocks):\n",
    "    stack = []  # 블록의 높이를 담을 스택\n",
    "    cnt = 0  # 빗물 총량\n",
    "\n",
    "    for i, height in enumerate(blocks): #enumerate함수는 순서가 있는 자료형(리스트, 튜플, 문자열 등)의 각 요소와 인덱스를 함께 반환\n",
    "        while stack and height > blocks[stack[-1]]:\n",
    "            # 현재 높이가 스택의 top보다 크면, 빗물이 찰 수 있는지 확인\n",
    "            top = stack.pop()  # 현재 높이를 스택에서 꺼냄\n",
    "\n",
    "            if not stack:\n",
    "                break  # 스택이 비어있으면 물이 쌓일 수 없음\n",
    "\n",
    "            distance = i - stack[-1] - 1  # 현재 높이와 이전 스택의 top 사이의 거리 즉 가로를 의미\n",
    "            min_height = min(height, blocks[stack[-1]]) - blocks[top]  #세로\n",
    "            cnt += distance * min_height\n",
    "\n",
    "        stack.append(i)\n",
    "    return cnt\n",
    "\n",
    "row, col = map(int, input().split())\n",
    "blocks = list(map(int, input().split())) \n",
    "\n",
    "print(totalRain(blocks))"
   ]
  }
 ],
 "metadata": {
  "language_info": {
   "name": "python"
  }
 },
 "nbformat": 4,
 "nbformat_minor": 2
}

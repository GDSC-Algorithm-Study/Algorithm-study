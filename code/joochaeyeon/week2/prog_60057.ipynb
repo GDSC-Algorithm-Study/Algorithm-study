{
 "cells": [
  {
   "cell_type": "markdown",
   "metadata": {},
   "source": [
    " https://school.programmers.co.kr/learn/courses/30/lessons/60057\n",
    "\n",
    "### 문자열 압축\n",
    "#### 문제 파악\n",
    "- 문자열에서 같은 값이 연속해서 나타나는 것을 그 문자의 개수와 반복되는 값으로 표현하여 더 짧은 문자열로 줄여서 표현하는 알고리즘을 공부\n",
    "- 예로 \"aabbaccc\"의 경우 \"2a2ba3c\"(문자가 반복되지 않아 한번만 나타난 경우 1은 생략함)와 같이 표현\n",
    "- \"어피치\"는 이러한 단점을 해결하기 위해 문자열을 1개 이상의 단위로 잘라서 압축하여 더 짧은 문자열로 표현할 수 있는지 방법을 찾아보려고 합니\n",
    "- 예를 들어, \"ababcdcdababcdcd\"의 경우 문자를 1개 단위로 자르면 전혀 압축되지 않지만, 2개 단위로 잘라서 압축한다면 \"2ab2cd2ab2cd\"로 표현할 수 있습니다. 다른 방법으로 8개 단위로 잘라서 압축한다면 \"2ababcdcd\"로 표현할 수 있으며, 이때가 가장 짧게 압축하여 표현할 수 있는 방법\n",
    "-  \"abcabcdede\"와 같은 경우, 문자를 2개 단위로 잘라서 압축하면 \"abcabc2de\"가 되지만, 3개 단위로 자른다면 \"2abcdede\"가 되어 3개 단위가 가장 짧은 압축 방법이 됩니다. 이때 3개 단위로 자르고 마지막에 남는 문자열은 그대로 붙여주면 됩니다.\n",
    "- 압축할 문자열 s가 매개변수로 주어질 때, 위에 설명한 방법으로 1개 이상 단위로 문자열을 잘라 압축하여 표현한 문자열 중 가장 짧은 것의 길이를 return 하도록 solution 함수를 완성\n",
    "\n",
    "#### 제한사항\n",
    "- s의 길이는 1 이상 1,000 이하입니다.\n",
    "- s는 알파벳 소문자로만 이루어져 있습니다.\n",
    "\n",
    "#### 예\n",
    "- s = \"aabbaccc\" result =7 -> 2a2ba3c이렇게 해서 7\n",
    "- s = \"ababcdcdababcdcd\" result = 9 ->2ababcdcd로 갯수세면 9개여서\n",
    "- s=\"abcabcdede\" result =8 -> 2abc2cde이기에 갯수세면 8\n",
    "- s =\"abcabcabcabcdededededede\" result = 14\n",
    "- s = xababcdcdababcdcd\" result = 17\n",
    "\n",
    "#### 아이디어\n",
    "## 자료구조 list 사용\n",
    "1. 아이디어 : 앞에서부터해서 만들어진 문자열이 같은건지 확인\n",
    "2. 문자열은 1~끝까지 다해봄\n"
   ]
  },
  {
   "cell_type": "code",
   "execution_count": null,
   "metadata": {},
   "outputs": [],
   "source": [
    "def solution(s):\n",
    "    answer = []\n",
    "\n",
    "    for i in range(1, len(s)//2 + 1): #문자열 길이만큼 중복문자열이 있나 s길이의 절반이 넘어가면 중복을 만들 수 없음\n",
    "        #i는 중복되는 문자열의 길이 ex)i=2이면 2개의 문자열이 중복되서 발생한다는것\n",
    "        sentence = \"\" #중복되는 문자열\n",
    "        cnt =1 #중복되는 문자열 개수\n",
    "\n",
    "        for j in range(i,len(s), i):\n",
    "            prev, cur = s[j-i:j], s[j:j+i]\n",
    "\n",
    "            if prev == cur:\n",
    "                cnt+=1\n",
    "            else:\n",
    "                sentence+=(str(cnt) +prev) if cnt >1 else prev\n",
    "                cnt=1\n",
    "        sentence+=(str(cnt)+cur) if cnt>1 else cur\n",
    "        answer.append(len(sentence))\n",
    "\n",
    "    return min(answer)\n",
    "\n",
    "# 테스트케이스\n",
    "# s = \"aabbaccc\"\n",
    "# s = \"ababcdcdababcdcd\"\n",
    "# s=\"abcabcdede\"\n",
    "# s =\"abcabcabcabcdededededede\"\n",
    "s = \"xababcdcdababcdcd\"\n",
    "solution(s)"
   ]
  }
 ],
 "metadata": {
  "language_info": {
   "name": "python"
  }
 },
 "nbformat": 4,
 "nbformat_minor": 2
}

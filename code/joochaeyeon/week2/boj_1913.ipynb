{
 "cells": [
  {
   "cell_type": "markdown",
   "metadata": {},
   "source": [
    "https://www.acmicpc.net/problem/1913\n",
    "\n",
    "### 달팽이\n",
    "#### 문제 파악\n",
    "- 홀수인 자연수 N이 주어지면, 다음과 같이 1부터 N2까지의 자연수를 달팽이 모양으로 N×N의 표에 채울 수 있다.\n",
    "- N이 주어졌을 때, 이러한 표를 출력하는 프로그램을 작성하시오. 또한 N2 이하의 자연수가 하나 주어졌을 때, 그 좌표도 함께 출력하시오. 예를 들어 N=5인 경우 6의 좌표는 (4,3)이다.\n",
    "\n",
    "#### 입력\n",
    "첫째 줄에 홀수인 자연수 N(3 ≤ N ≤ 999)이 주어진다. 둘째 줄에는 위치를 찾고자 하는 N2 이하의 자연수가 하나 주어진다.\n",
    "\n",
    "#### 출력\n",
    "N개의 줄에 걸쳐 표를 출력한다. 각 줄에 N개의 자연수를 한 칸씩 띄어서 출력하면 되며, 자릿수를 맞출 필요가 없다. N+1번째 줄에는 입력받은 자연수의 좌표를 나타내는 두 정수를 한 칸 띄어서 출력"
   ]
  },
  {
   "cell_type": "code",
   "execution_count": null,
   "metadata": {},
   "outputs": [],
   "source": [
    "N = int(input()) #홀수\n",
    "find=int(input())\n",
    "blank = [[0]*N for _ in range(N)] #숫자로 채워지는 배열\n",
    "\n",
    "#좌표가 상->우->하->좌로 이동\n",
    "dx = [1,0,-1,0]\n",
    "dy=[0,1,0,-1]\n",
    "\n",
    "#중심좌표\n",
    "x,y= N//2, N//2\n",
    "\n",
    "n = N*N #좌표에 값할당\n",
    "row,column= 0,0\n",
    "find_x,find_y = 0,0 #찾고자 하는 숫자의 인덱스\n",
    "head = 0 #방향변수\n",
    "\n",
    "while n>0:\n",
    "\n",
    "    blank[row][column] = n #2차원배열로 할당\n",
    "    if n == find:\n",
    "        find_x,find_y = row+1, column+1 #배열은 0,0으로 시작하기에 +1씩 시켜줌\n",
    "\n",
    "    #배열의 범위를 벗어나거나 배열에 할당된 값이 0이 아닌경우(다른 값이 할당되어진 경우) 방향인 head를 변경\n",
    "    if row+dx[head]<0 or row+dx[head]>=N or column+dy[head] <0 or column+dy[head]>=N or blank[row+dx[head]][column+dy[head]]!=0:\n",
    "        head = (head+1)%4\n",
    "    row+=dx[head]\n",
    "    column+=dy[head]\n",
    "    n-=1\n",
    "    \n",
    "for row in blank:\n",
    "    print(*row)\n",
    "\n",
    "print(find_x,find_y)"
   ]
  }
 ],
 "metadata": {
  "language_info": {
   "name": "python"
  }
 },
 "nbformat": 4,
 "nbformat_minor": 2
}

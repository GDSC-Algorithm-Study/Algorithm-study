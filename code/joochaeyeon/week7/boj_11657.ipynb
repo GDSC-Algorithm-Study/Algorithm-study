{
 "cells": [
  {
   "cell_type": "markdown",
   "metadata": {},
   "source": [
    "https://www.acmicpc.net/problem/11657\n",
    "\n",
    "### 타임머신 \n",
    "#### 문제 파악\n",
    "- N개의 도시가 있다. 그리고 한 도시에서 출발하여 다른 도시에 도착하는 버스가 M개 있다\n",
    "- 각 버스는 A, B, C로 나타낼 수 있는데, A는 시작도시, B는 도착도시, C는 버스를 타고 이동하는데 걸리는 시간\n",
    "- 시간 C가 양수가 아닌 경우가 있다.\n",
    "- C = 0인 경우는 순간 이동을 하는 경우, C < 0인 경우는 타임머신으로 시간을 되돌아가는 경우\n",
    "- 1번 도시에서 출발해서 나머지 도시로 가는 가장 빠른 시간을 구하는 프로그램을 작성\n",
    "\n",
    "#### 입력\n",
    "- 첫째 줄에 도시의 개수 N (1 ≤ N ≤ 500), 버스 노선의 개수 M (1 ≤ M ≤ 6,000)\n",
    "- 둘째 줄부터 M개의 줄에는 버스 노선의 정보 A, B, C (1 ≤ A, B ≤ N, -10,000 ≤ C ≤ 10,000)\n",
    "\n",
    "#### 출력\n",
    "- 만약 1번 도시에서 출발해 어떤 도시로 가는 과정에서 시간을 무한히 오래 전으로 되돌릴 수 있다면 첫째 줄에 -1을 출력\n",
    "- 그렇지 않다면 N-1개 줄에 걸쳐 각 줄에 1번 도시에서 출발해 2번 도시, 3번 도시, ..., N번 도시로 가는 가장 빠른 시간을 순서대로 출력\n",
    "- 만약 해당 도시로 가는 경로가 없다면 대신 -1을 출력"
   ]
  },
  {
   "cell_type": "markdown",
   "metadata": {},
   "source": [
    "### 문제에서 음수값이 가능하다라 언급하였기에 벨만포드 알고리즘을 사용\n",
    "-> 벨만포드는 음수 가중치를 허용하는 알고리즘이다."
   ]
  },
  {
   "cell_type": "code",
   "execution_count": null,
   "metadata": {},
   "outputs": [],
   "source": [
    "def bellmanFord(graph, start):\n",
    "    INF = float('inf')\n",
    "    distance = [INF] * (len(graph) + 1)\n",
    "    distance[start] = 0\n",
    "\n",
    "    for _ in range(len(graph) - 1):\n",
    "        for node in range(1, len(graph) + 1):\n",
    "            for neighbor, weight in graph[node]:\n",
    "                if distance[node] != INF and distance[node] + weight < distance[neighbor]:\n",
    "                    distance[neighbor] = distance[node] + weight\n",
    "\n",
    "    #음수 사이클 체크\n",
    "    for node in range(1, len(graph) + 1):\n",
    "        for neighbor, weight in graph[node]:\n",
    "            if distance[node] != INF and distance[node] + weight < distance[neighbor]:\n",
    "                return [-INF]  #음수 사이클이 존재하면 -INF 반환\n",
    "\n",
    "    return distance[1:]\n",
    "\n",
    "N, M = map(int, input().split())\n",
    "graph = {i: [] for i in range(1, N + 1)}\n",
    "\n",
    "for _ in range(M):\n",
    "    a, b, c = map(int, input().split())\n",
    "    graph[a].append((b, c))\n",
    "\n",
    "result = bellmanFord(graph, 1)\n",
    "\n",
    "if result == [-float('inf')]:\n",
    "    print(-1)\n",
    "else:\n",
    "    for dist in result[1:]:\n",
    "        print(dist if dist != float('inf') else -1)"
   ]
  }
 ],
 "metadata": {
  "language_info": {
   "name": "python"
  }
 },
 "nbformat": 4,
 "nbformat_minor": 2
}

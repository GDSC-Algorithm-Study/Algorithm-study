{
 "cells": [
  {
   "cell_type": "markdown",
   "metadata": {},
   "source": [
    " https://www.acmicpc.net/problem/1753\n",
    "\n",
    "### 최단경로 \n",
    "#### 문제 파악\n",
    "- 방향그래프가 주어지면 주어진 시작점에서 다른 모든 정점으로의 최단 경로를 구하는 프로그램을 작성\n",
    "- 단, 모든 간선의 가중치는 10 이하의 자연수이다.\n",
    "\n",
    "#### 입력\n",
    "- 첫째 줄에 정점의 개수 V와 간선의 개수 E가 주어진다. (1 ≤ V ≤ 20,000, 1 ≤ E ≤ 300,000), 모든 정점에는 1부터 V까지 번호가 매겨져 있다고 가정\n",
    "- 둘째 줄에는 시작 정점의 번호 K(1 ≤ K ≤ V)가 주어진다.\n",
    "- 셋째 줄부터 E개의 줄에 걸쳐 각 간선을 나타내는 세 개의 정수 (u, v, w)가 순서대로 주어진다. \n",
    "- 이는 u에서 v로 가는 가중치 w인 간선이 존재한다는 뜻이다. u와 v는 서로 다르며 w는 10 이하의 자연수이다. 서로 다른 두 정점 사이에 여러 개의 간선이 존재할 수도 있음에 유의한다.\n",
    "\n",
    "#### 출력\n",
    "첫째 줄부터 V개의 줄에 걸쳐, i번째 줄에 i번 정점으로의 최단 경로의 경로값을 출력한다.<br/> 시작점 자신은 0으로 출력하고, 경로가 존재하지 않는 경우에는 INF를 출력하면 된다.\n"
   ]
  },
  {
   "cell_type": "code",
   "execution_count": null,
   "metadata": {},
   "outputs": [],
   "source": [
    "import heapq\n",
    "\n",
    "def dijkstra(graph, start):\n",
    "    inf = float('inf') #무한대로 설정\n",
    "    dis = {node: inf for node in graph} #최단거리 저장하는 딕셔너리\n",
    "    dis[start] = 0\n",
    "\n",
    "    pq = [(0, start)] #(거리,노드) -> 우선순위 큐를 사용\n",
    "\n",
    "    while pq:\n",
    "        current_dis,current_node = heapq.heappop(pq)\n",
    "\n",
    "        if current_dis> dis[current_node]:\n",
    "            continue\n",
    "\n",
    "        for neighbor, weight in graph[current_node]:\n",
    "            new_dis = current_dis + weight\n",
    "\n",
    "            if new_dis < dis[neighbor]:\n",
    "                dis[neighbor] = new_dis\n",
    "                heapq.heappush(pq, (new_dis, neighbor))\n",
    "    return dis\n",
    "\n",
    "def solution(V, E, start, edges):\n",
    "    graph = {i: [] for i in range(1, V+1)}\n",
    "\n",
    "    for edge in edges:\n",
    "        u, v, w = edge\n",
    "        graph[u].append((v, w))\n",
    "\n",
    "    dis = dijkstra(graph, start)\n",
    "\n",
    "    for node in range(1, V+1):\n",
    "        if dis[node] == float('inf'):\n",
    "            print(\"INF\")\n",
    "        else:\n",
    "            print(dis[node])\n",
    "\n",
    "V, E = map(int, input().split())\n",
    "start = int(input())\n",
    "edges = [list(map(int, input().split())) for _ in range(E)]\n",
    "solution(V, E, start, edges)"
   ]
  }
 ],
 "metadata": {
  "language_info": {
   "name": "python"
  }
 },
 "nbformat": 4,
 "nbformat_minor": 2
}

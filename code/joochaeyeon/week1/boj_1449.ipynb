{
 "cells": [
  {
   "cell_type": "markdown",
   "metadata": {},
   "source": [
    "### 수리공 항승\n",
    "#### 문제 파악\n",
    "- 물이 새는 곳은 신기하게도 가장 왼쪽에서 정수만큼 떨어진 거리만 물이 샌다.\n",
    "- 길이가 L인 테이프를 무한개 가지고 있다.\n",
    "- 물을 막을 때, 적어도 그 위치의 좌우 0.5만큼 간격을 줘야 물이 다시는 안 샌다고 생각\n",
    "- 항승이가 필요한 테이프의 최소 개수를 구하는 프로그램을 작성\n",
    "- 테이프를 자를 수 없고, 테이프를 겹쳐서 붙이는 것도 가능\n",
    "\n",
    "#### 입력\n",
    "첫째 줄에 물이 새는 곳의 개수 N과 테이프의 길이 L이 주어진다. 둘째 줄에는 물이 새는 곳의 위치가 주어진다. N과 L은 1,000보다 작거나 같은 자연수이고, 물이 새는 곳의 위치는 1,000보다 작거나 같은 자연수이다.\n",
    "#### 출력\n",
    "항승이가 필요한 테이프의 개수를 출력"
   ]
  },
  {
   "cell_type": "code",
   "execution_count": null,
   "metadata": {},
   "outputs": [],
   "source": [
    "# 한꺼번에 입력받기 \n",
    "N, L = map(int, input().split()) # 물이 새는 개수, 테이프 길이\n",
    "\n",
    "# 리스트 한번에 입력받기\n",
    "li = list(map(int, input().split())) # 물 새는 위치 \n",
    "\n",
    "# 리스트가 정렬이 되지 않는경우도 있기에 정렬시킴\n",
    "li.sort()\n",
    "\n",
    "# print(N,L)\n",
    "# print(li)"
   ]
  },
  {
   "cell_type": "code",
   "execution_count": null,
   "metadata": {},
   "outputs": [],
   "source": [
    "tapeNum = 0  # 필요한 테이프 갯수\n",
    "tape_end = 0  # 테이프의 끝 위치\n",
    "\n",
    "for i in range(len(li)):\n",
    "    if tape_end < li[i]:  # 새로운 테이프 필요한 경우\n",
    "        tape_end = li[i] + L - 1  # 테이프의 끝 위치 갱신, 앞뒤로 0.5씩 테이프를 써야하기에 1을 뺴줌\n",
    "        tapeNum += 1\n",
    "\n",
    "# 출력값\n",
    "print(tapeNum)\n"
   ]
  }
 ],
 "metadata": {
  "language_info": {
   "name": "python"
  }
 },
 "nbformat": 4,
 "nbformat_minor": 2
}

{
 "cells": [
  {
   "cell_type": "markdown",
   "metadata": {},
   "source": [
    "### 강의실 배정\n",
    "#### 문제 파악\n",
    "- Si에 시작해서 Ti에 끝나는 N개의 수업이 주어지는데, 최소의 강의실을 사용해서 모든 수업을 가능하게 해야 한다. \n",
    "- 수업이 끝난 직후에 다음 수업을 시작할 수 있다. (즉, Ti ≤ Sj 일 경우 i 수업과 j 수업은 같이 들을 수 있다.)\n",
    "\n",
    "#### 입력\n",
    "첫 번째 줄에 N이 주어진다. (1 ≤ N ≤ 200,000)\n",
    "N개의 줄에 Si, Ti가 주어진다. (0 ≤ Si < Ti ≤ 109)\n",
    "\n",
    "#### 출력\n",
    "강의실의 개수를 출력\n",
    "\n",
    "https://www.acmicpc.net/problem/11000"
   ]
  },
  {
   "cell_type": "markdown",
   "metadata": {},
   "source": [
    "# 시간초과 발생"
   ]
  },
  {
   "cell_type": "code",
   "execution_count": null,
   "metadata": {},
   "outputs": [],
   "source": [
    "N = int(input())\n",
    "\n",
    "lec = []\n",
    "for i in range(N):\n",
    "    lec.append(list(map(int, input().split())))\n",
    "\n",
    "lec.sort(key=lambda x: (x[0], x[1]))  # 강의 시작 시간을 기준으로 정렬\n",
    "\n",
    "last_end_time = lec[0][1]  # 첫 번째 끝나는 강의 끝난 시간을 저장\n",
    "room = 1  # 일단 무조건 한개는 필요하니\n",
    "\n",
    "for i in range(1, len(lec)):\n",
    "    if lec[i][0] < last_end_time:  # 현재 수업의 시작 시간이 마지막으로 추가된 강의실의 끝나는 시간보다 작으면 같은 강의실 사용\n",
    "        room += 1\n",
    "    else:\n",
    "        last_end_time = lec[i][1]  # 새로운 강의실 사용\n",
    "\n",
    "print(room)"
   ]
  }
 ],
 "metadata": {
  "language_info": {
   "name": "python"
  }
 },
 "nbformat": 4,
 "nbformat_minor": 2
}

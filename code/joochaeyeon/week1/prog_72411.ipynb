{
 "cells": [
  {
   "cell_type": "markdown",
   "metadata": {},
   "source": [
    "### 메뉴 리뉴얼\n",
    "#### 문제 파악\n",
    "- 기존에는 단품으로만 제공하던 메뉴를 조합해서 코스요리 형태로 재구성해서 새로운 메뉴를 제공하기로 결정\n",
    "- 한 단품메뉴들을 코스요리 메뉴로 구성하기로함\n",
    "\n",
    "#### 조건\n",
    "- 단, 코스요리 메뉴는 최소 2가지 이상의 단품메뉴로 구성\n",
    "- 최소 2명 이상의 손님으로부터 주문된 단품메뉴 조합에 대해서만 코스요리 메뉴 후보에 포함\n",
    "- 각 단품메뉴는 A ~ Z의 알파벳 대문자로 표기\n",
    "\n",
    "#### 문제\n",
    "- 각 손님들이 주문한 단품메뉴들이 문자열 형식으로 담긴 배열 orders, \"스카피\"가 추가하고 싶어하는 코스요리를 구성하는 단품메뉴들의 갯수가 담긴 배열 course가 매개변수로 주어질 때, \"스카피\"가 새로 추가하게 될 코스요리의 메뉴 구성을 문자열 형태로 배열에 담아 return 하도록 solution 함수를 완성\n",
    "\n",
    "#### 제한상황\n",
    "[제한사항]\n",
    "- orders 배열의 크기는 2 이상 20 이하입니다.\n",
    "- orders 배열의 각 원소는 크기가 2 이상 10 이하인 문자열입니다.\n",
    "- 각 문자열은 알파벳 대문자로만 이루어져 있습니다.\n",
    "- 각 문자열에는 같은 알파벳이 중복해서 들어있지 않습니다.\n",
    "- course 배열의 크기는 1 이상 10 이하입니다.\n",
    "- course 배열의 각 원소는 2 이상 10 이하인 자연수가 오름차순으로 정렬되어 있습니다.\n",
    "- course 배열에는 같은 값이 중복해서 들어있지 않습니다.\n",
    "- 정답은 각 코스요리 메뉴의 구성을 문자열 형식으로 배열에 담아 사전 순으로 오름차순 정렬해서 return 해주세요.\n",
    "- 배열의 각 원소에 저장된 문자열 또한 알파벳 오름차순으로 정렬되어야 합니다.\n",
    "- 만약 가장 많이 함께 주문된 메뉴 구성이 여러 개라면, 모두 배열에 담아 return 하면 됩니다.\n",
    "- orders와 course 매개변수는 return 하는 배열의 길이가 1 이상이 되도록 주어집니다."
   ]
  },
  {
   "cell_type": "code",
   "execution_count": 1,
   "metadata": {},
   "outputs": [
    {
     "name": "stdout",
     "output_type": "stream",
     "text": [
      "['ACD', 'AD', 'ADE', 'CD', 'XYZ']\n"
     ]
    }
   ],
   "source": [
    "from itertools import combinations\n",
    "from collections import Counter\n",
    "\n",
    "# orders -> 각 손님들이 주문한 단품 메뉴들이 문자열 형식으로 담긴 배열\n",
    "# course -> 스카피가 추가하고 싶어하는 코스요리를 구성하는 단품메뉴들의 갯수가 담긴 배열\n",
    "# answer -> \"스카피\"가 새로 추가하게 될 코스요리의 메뉴 구성을 문자열 형태로 배열에 담아 return\n",
    "\n",
    "def solution(orders, course):\n",
    "    combo_counts = Counter()  # 주문에서 등장하는 각 조합을 세기\n",
    "\n",
    "    for order in orders:\n",
    "        for i in range(2, len(order) + 1):\n",
    "            for comb in combinations(sorted(order.replace(\" \", \"\")), i):\n",
    "                combo_counts[''.join(comb)] += 1\n",
    "\n",
    " \n",
    "    #등장 횟수가 2회 이상인 조합 중 course에 있는 길이만 선택\n",
    "    answer = []\n",
    "    for c in course:\n",
    "        max_count_combos = [key for key, value in combo_counts.items() if len(key) == c and value >= 2]\n",
    "        max_count = max([combo_counts[combo] for combo in max_count_combos], default=0)\n",
    "        answer.extend([combo for combo in max_count_combos if combo_counts[combo] == max_count])\n",
    "    answer= sorted(answer)\n",
    "    \n",
    "    return answer\n",
    "\n",
    "\n",
    "#입력\n",
    "# orders = [\"ABCFG\", \"AC\", \"CDE\", \"ACDE\", \"BCFG\", \"ACDEH\"]\n",
    "# course = [2,3,4]\n",
    "\n",
    "orders = [\"ABCDE\", \"AB\", \"CD\", \"ADE\", \"XYZ\", \"XYZ\", \"ACD\"]\n",
    "course = [2,3,5]\n",
    "\n",
    "# orders = [\"XYZ\", \"XWY\", \"WXA\"]\n",
    "# course = [2,3,4]\n",
    "\n",
    "result = solution(orders, course)\n",
    "print(result)"
   ]
  },
  {
   "cell_type": "code",
   "execution_count": null,
   "metadata": {},
   "outputs": [],
   "source": []
  }
 ],
 "metadata": {
  "kernelspec": {
   "display_name": "Python 3",
   "language": "python",
   "name": "python3"
  },
  "language_info": {
   "codemirror_mode": {
    "name": "ipython",
    "version": 3
   },
   "file_extension": ".py",
   "mimetype": "text/x-python",
   "name": "python",
   "nbconvert_exporter": "python",
   "pygments_lexer": "ipython3",
   "version": "3.10.10"
  }
 },
 "nbformat": 4,
 "nbformat_minor": 2
}
